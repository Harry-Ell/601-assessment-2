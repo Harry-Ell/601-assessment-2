{
 "cells": [
  {
   "cell_type": "markdown",
   "metadata": {},
   "source": [
    "## generic value iteration algo "
   ]
  },
  {
   "cell_type": "code",
   "execution_count": 37,
   "metadata": {},
   "outputs": [],
   "source": [
    "import numpy as np \n",
    "from typing import Callable"
   ]
  },
  {
   "cell_type": "markdown",
   "metadata": {},
   "source": [
    "## SPECIALISED FOR EX 9.27"
   ]
  },
  {
   "cell_type": "code",
   "execution_count": 3,
   "metadata": {},
   "outputs": [
    {
     "name": "stdout",
     "output_type": "stream",
     "text": [
      "We determine the optimal policy to be:\n",
      "if healthy, then Party\n",
      "if sick, then Relax\n"
     ]
    }
   ],
   "source": [
    "def Value_iteration(S:list[tuple], # states\n",
    "                    A:tuple,       # actions\n",
    "                    P:list,        # probabilities\n",
    "                    R:list,         # rewards\n",
    "                    cutoff:int = 1000, \n",
    "                    discount_rate:float=0.8):\n",
    "    # we assign V0[s] arbitrarily to start with\n",
    "    V0 = np.zeros(2) #np.random.rand(len(S))  # Ensures values are float\n",
    "    V_k = V0.astype(float)  \n",
    "    k = 0\n",
    "    pi = [0,0]\n",
    "    while k < cutoff:\n",
    "        V_k_minus_1 = V_k\n",
    "        for index, state in enumerate(S):\n",
    "            possible_values = [R[index][a] + discount_rate * (P[index][a]*V_k_minus_1[0] + (1-P[index][a])*V_k_minus_1[1]) for a in range(len(A))]\n",
    "            V_k[index] = max(possible_values).astype(float)\n",
    "        k += 1\n",
    "\n",
    "    for index, state in enumerate(S):\n",
    "        possible_values =  [R[index][a] + discount_rate * (P[index][a]*V_k_minus_1[0] + (1-P[index][a])*V_k_minus_1[1]) for a in range(len(A))]\n",
    "        pi[index] =  possible_values.index(max(possible_values))\n",
    "\n",
    "    return V_k, pi\n",
    "\n",
    "\n",
    "###############################################\n",
    "############# FUNCTION CALL ###################\n",
    "###############################################\n",
    "\n",
    "States = ('healthy', 'sick')\n",
    "Actions = ('Relax', 'Party')\n",
    "# we will be taking 0 to be healthy and 1 to be sick in terms of state\n",
    "# and we will be using 0 for relax, and 1 to party \n",
    "\n",
    "Probabilities = [[0.95, # if healthy and relax\n",
    "                 0.7],  # if healthy and party\n",
    "                [ 0.5,  # if sick and relax\n",
    "                 0.1]]  # if sick and party\n",
    "\n",
    "Rewards = [[7, # if healthy and relax\n",
    "            10],  # if healthy and party\n",
    "            [0,  # if sick and relax\n",
    "            2]]  # if sick and party\n",
    "\n",
    "values, policies = Value_iteration(States, Actions, Probabilities, Rewards)\n",
    "\n",
    "print('We determine the optimal policy to be:')\n",
    "for index, value in enumerate(policies):\n",
    "    print(f'if {States[index]}, then {Actions[value]}')"
   ]
  },
  {
   "cell_type": "markdown",
   "metadata": {},
   "source": [
    "## SPECIALISED FOR EX 9.28"
   ]
  },
  {
   "cell_type": "code",
   "execution_count": 26,
   "metadata": {},
   "outputs": [],
   "source": [
    "def bellman_equation(actions, state, probabilities, V, rewards, discount_factor):\n",
    "    values = []\n",
    "    i, j = state  # coords\n",
    "    corners = [(0, 0), (0, len(V) - 1), (len(V) - 1, 0), (len(V) - 1, len(V) - 1)]\n",
    "    \n",
    "    for intended_action in actions:\n",
    "        # this inner for loop should be maximising over all intended actions to tell you which is the best\n",
    "        summation_term = 0\n",
    "        \n",
    "        for possible_action in actions:\n",
    "            probability_of_occurence = probabilities[0] if possible_action == intended_action else probabilities[1]\n",
    "            \n",
    "            # check where we are, and if this is within the grid\n",
    "            new_i, new_j = i + possible_action[0], j + possible_action[1]\n",
    "            \n",
    "            if 0 <= new_i < len(V) and 0 <= new_j < len(V[0]):\n",
    "                reward = rewards[i, j]  # Immediate reward \n",
    "                \n",
    "                if reward != 0:  # if you are on a reward cell/ move into one, teleport to random corner\n",
    "                    future_value = sum(V[corner] for corner in corners) / 4  \n",
    "                else:\n",
    "                    future_value = V[new_i, new_j]  # non special transition\n",
    "            else:\n",
    "                # stay in place and apply wall penalty if you hit wall \n",
    "                # print('this is triggered')\n",
    "                reward = -1\n",
    "                future_value = V[i, j]\n",
    "            summation_term += probability_of_occurence * (reward + discount_factor * future_value)\n",
    "        \n",
    "        values.append(summation_term)  \n",
    "    \n",
    "    return max(values) # only return max value, not all of them \n"
   ]
  },
  {
   "cell_type": "code",
   "execution_count": 66,
   "metadata": {},
   "outputs": [],
   "source": [
    "def Value_iteration(S:np.ndarray, # states\n",
    "                    A:tuple,       # actions\n",
    "                    P:list,        # probabilities\n",
    "                    R:list,         # rewards\n",
    "                    cutoff:int = 1000, \n",
    "                    discount_rate:float=0.8):\n",
    "    \n",
    "    # we assign V0[s] arbitrarily to start with\n",
    "    V0 = np.zeros(S.shape) \n",
    "    V_k = V0.astype(float)  \n",
    "    k = 0\n",
    "    pi = np.zeros(S.shape) \n",
    "    while k < cutoff:\n",
    "        V_k_minus_1 = V_k.copy()\n",
    "        \n",
    "        for (i, j), value in np.ndenumerate(S):\n",
    "            V_k[i][j] = bellman_equation(A, (i,j), P, V_k_minus_1, R, discount_rate)\n",
    "        k += 1\n",
    "\n",
    "    return np.round(V_k, decimals=1)"
   ]
  },
  {
   "cell_type": "code",
   "execution_count": 72,
   "metadata": {},
   "outputs": [],
   "source": [
    "states = np.zeros((10, 10))\n",
    "\n",
    "actions = [(1, 0),    # right\n",
    "           (-1, 0),   # left\n",
    "           (0, 1),    # up\n",
    "           (0, -1)]   # down\n",
    "\n",
    "probabilities = [0.7, 0.1]\n",
    "\n",
    "rewards = np.zeros((10,10))\n",
    "rewards[8][7] = 10\n",
    "rewards[7][2] = 3\n",
    "rewards[3][4] = -5\n",
    "rewards[3][7] = -10\n",
    "\n",
    "output = Value_iteration(S = states, \n",
    "                A = actions, \n",
    "                P = probabilities, \n",
    "                R = rewards, \n",
    "                cutoff=1000,\n",
    "                discount_rate=0.9)"
   ]
  },
  {
   "cell_type": "code",
   "execution_count": 73,
   "metadata": {},
   "outputs": [
    {
     "name": "stdout",
     "output_type": "stream",
     "text": [
      "[[ 0.9  1.4  1.7  2.   2.5  2.9  3.5  4.   3.6  3. ]\n",
      " [ 1.3  1.7  2.1  2.5  3.   3.6  4.2  4.9  4.3  3.7]\n",
      " [ 1.5  1.9  2.3  2.8  3.4  4.1  5.   6.   5.1  4.5]\n",
      " [ 1.4  1.8  2.1  2.4  3.4  4.1  4.8  5.6  6.   5.4]\n",
      " [ 1.4  1.8  1.8 -2.   3.5  4.6  5.5  6.4  7.2  6.5]\n",
      " [ 1.7  2.1  2.6  3.2  4.5  5.5  6.5  7.6  8.7  7.7]\n",
      " [ 1.6  2.1  2.5  3.1  5.1  6.4  7.6  9.  10.6  9.1]\n",
      " [ 1.5  1.8  1.4 -7.   4.7  7.   8.7 10.6 13.  10.7]\n",
      " [ 1.7  2.1  2.6  3.2  5.1  6.4  7.6  9.  10.6  9.1]\n",
      " [ 1.7  2.3  2.9  3.6  4.5  5.4  6.5  7.6  8.8  7.7]]\n"
     ]
    }
   ],
   "source": [
    "print(output.T)"
   ]
  },
  {
   "cell_type": "code",
   "execution_count": 36,
   "metadata": {},
   "outputs": [],
   "source": [
    "V0 = np.zeros(states.shape) \n",
    "V = V0.astype(float)  \n",
    "discount_factor = 0.9\n",
    "values = []\n",
    "i, j = (8,7)\n",
    "\n",
    "corners = [(0, 0), (0, len(V) - 1), (len(V) - 1, 0), (len(V) - 1, len(V) - 1)]\n",
    "\n",
    "for intended_action in actions:\n",
    "    # this inner for loop should be maximising over all intended actions to tell you which is the best\n",
    "    summation_term = 0\n",
    "    \n",
    "    for possible_action in actions:\n",
    "        probability_of_occurence = probabilities[0] if possible_action == intended_action else probabilities[1]\n",
    "        \n",
    "        # check where we are, and if this is within the grid\n",
    "        new_i, new_j = i + possible_action[0], j + possible_action[1]\n",
    "        \n",
    "        if 0 <= new_i < len(V) and 0 <= new_j < len(V[0]):\n",
    "            reward = rewards[i, j]  # Immediate reward \n",
    "            \n",
    "            if reward != 0:  # if you are on a reward cell/ move into one, teleport to random corner\n",
    "                future_value = sum(V[corner] for corner in corners) / 4  \n",
    "            else:\n",
    "                future_value = V[new_i, new_j]  # non special transition\n",
    "        else:\n",
    "            # stay in place and apply wall penalty if you hit wall \n",
    "            # print('this is triggered')\n",
    "            reward = -1\n",
    "            future_value = V[i, j]\n",
    "        summation_term += probability_of_occurence * (reward + discount_factor * future_value)\n",
    "    \n",
    "    values.append(summation_term)  \n",
    "    "
   ]
  },
  {
   "cell_type": "code",
   "execution_count": 1,
   "metadata": {},
   "outputs": [],
   "source": [
    "len_x, len_y = 15, 10 \n",
    "\n",
    "states = [(i, j) for i in range(len_x) for j in range(len_y)]\n",
    "probabilities = {}\n",
    "\n",
    "corners = [(0, 0), (0, len_y - 1), (len_x - 1, 0), (len_x - 1, len_y - 1)]\n",
    "reward_states = [(8,7), (7,2), (3,4), (3,7), (13,4)]\n",
    "reward_values = [10, 3, -5, -10, 10]\n",
    "\n",
    "actions = [(1, 0),    # right\n",
    "           (-1, 0),   # left\n",
    "           (0, 1),    # up\n",
    "           (0, -1)]   # down"
   ]
  },
  {
   "cell_type": "markdown",
   "metadata": {},
   "source": [
    "## probabilities"
   ]
  },
  {
   "cell_type": "code",
   "execution_count": 2,
   "metadata": {},
   "outputs": [],
   "source": [
    "def populate_probabilities_rewards(state, actions):\n",
    "    sub_dirs = {}\n",
    "    for index, _ in enumerate(actions):\n",
    "        sub_dirs[index] = {}\n",
    "        for corner in corners:\n",
    "            sub_dirs[index][(corner)] = 0.25\n",
    "    return sub_dirs\n",
    "\n",
    "def populate_probabilities_usual(state, actions):\n",
    "    sub_dirs = {}\n",
    "    for index, intended_move in enumerate(actions):\n",
    "        sub_dirs[index] = {}\n",
    "        for actual_move in actions:\n",
    "            value = 0.7 if intended_move == actual_move else 0.1\n",
    "            sub_dirs[index][(state[0] + actual_move[0], state[1] + actual_move[1])] = value\n",
    "    return sub_dirs\n",
    "\n",
    "def populate_probabilities_edge(state, actions):\n",
    "    sub_dirs = {}\n",
    "\n",
    "    for index, intended_move in enumerate(actions):\n",
    "        sub_dirs[index] = {}\n",
    "\n",
    "        for actual_move in actions:\n",
    "            new_row = state[0] + actual_move[0]\n",
    "            new_col = state[1] + actual_move[1]\n",
    "\n",
    "            # Check if out of bounds\n",
    "            if (new_row < 0 or new_row >= len_y or\n",
    "                new_col < 0 or new_col >= len_x):\n",
    "                # Remain in the same cell \n",
    "                new_state = state\n",
    "            else:\n",
    "                new_state = (new_row, new_col)\n",
    "\n",
    "            value = 0.7 if intended_move == actual_move else 0.1\n",
    "            sub_dirs[index][new_state] = value\n",
    "\n",
    "    return sub_dirs"
   ]
  },
  {
   "cell_type": "code",
   "execution_count": 3,
   "metadata": {},
   "outputs": [],
   "source": [
    "for state in states:\n",
    "    i, j = state\n",
    "    if state in reward_states and reward_values[reward_states.index(state)] > 0:\n",
    "        # teleportation step\n",
    "        probabilities[state] = populate_probabilities_rewards(state, actions)\n",
    "    elif 0 < i < len_x-1 and 0 < j < len_y-1:\n",
    "        # we are in standard operating conditions, make usual sub directories\n",
    "        probabilities[state] = populate_probabilities_usual(state, actions)\n",
    "    else: # we must be at an edge\n",
    "        probabilities[state] = populate_probabilities_edge(state, actions)"
   ]
  },
  {
   "cell_type": "code",
   "execution_count": 4,
   "metadata": {},
   "outputs": [],
   "source": [
    "def populate_positive_rewards(state, actions, reward_value):\n",
    "    sub_dirs = {}\n",
    "    for index, _ in enumerate(actions):\n",
    "        sub_dirs[index] = {}\n",
    "        for corner in corners:\n",
    "            sub_dirs[index][(corner)] = reward_value\n",
    "    return sub_dirs\n",
    "\n",
    "def populate_negative_rewards(state, actions, reward_value):\n",
    "    sub_dirs = {}\n",
    "    for index, intended_move in enumerate(actions):\n",
    "        sub_dirs[index] = {}\n",
    "        for actual_move in actions:\n",
    "            sub_dirs[index][(state[0] + actual_move[0], state[1] + actual_move[1])] = reward_value\n",
    "    return sub_dirs\n",
    "\n",
    "def populate_edge_penalties(state, actions):\n",
    "    sub_dirs = {}\n",
    "\n",
    "    for index, intended_move in enumerate(actions):\n",
    "        sub_dirs[index] = {}\n",
    "\n",
    "        for actual_move in actions:\n",
    "            new_row = state[0] + actual_move[0]\n",
    "            new_col = state[1] + actual_move[1]\n",
    "\n",
    "            # Check if out of bounds\n",
    "            if (new_row < 0 or new_row >= len_y or\n",
    "                new_col < 0 or new_col >= len_x):\n",
    "                # Remain in the same cell \n",
    "                new_state = state\n",
    "            else:\n",
    "                new_state = (new_row, new_col)\n",
    "\n",
    "            value = -1 if new_state == state else 0\n",
    "            sub_dirs[index][new_state] = value\n",
    "\n",
    "    return sub_dirs"
   ]
  },
  {
   "cell_type": "code",
   "execution_count": 5,
   "metadata": {},
   "outputs": [],
   "source": [
    "rewards = {}\n",
    "for state in states:\n",
    "    i, j = state\n",
    "    if state in reward_states and reward_values[reward_states.index(state)] > 0:\n",
    "        # we are about to teleport\n",
    "        rewards[state] = populate_positive_rewards(state, actions, reward_values[reward_states.index(state)])\n",
    "    elif state in reward_states and reward_values[reward_states.index(state)] < 0:\n",
    "        # we get a reward but do not teleport\n",
    "        rewards[state] = populate_negative_rewards(state, actions, reward_values[reward_states.index(state)])\n",
    "    elif i in [0, len_x-1] or j in [0, len_y-1]:\n",
    "        rewards[state] = populate_edge_penalties(state, actions)"
   ]
  },
  {
   "cell_type": "code",
   "execution_count": 6,
   "metadata": {},
   "outputs": [],
   "source": [
    "from MDP import GenericMDP\n",
    "import numpy as np\n",
    "mdp_solver = GenericMDP(states, actions, probabilities, rewards, 0.9, 200, len_x=15, len_y=10, reward_list=reward_states, reward_values= reward_values, problem_type='gridworld')"
   ]
  },
  {
   "cell_type": "code",
   "execution_count": 9,
   "metadata": {},
   "outputs": [
    {
     "data": {
      "image/png": "[encoded data removed]",
      "text/plain": [
       "<Figure size 640x480 with 1 Axes>"
      ]
     },
     "metadata": {},
     "output_type": "display_data"
    }
   ],
   "source": [
    "policy, values = mdp_solver()"
   ]
  },
  {
   "cell_type": "code",
   "execution_count": 10,
   "metadata": {},
   "outputs": [
    {
     "name": "stdout",
     "output_type": "stream",
     "text": [
      "policy is:\n",
      "[[0. 2. 2. 2. 2. 2. 2. 2. 2. 2. 1. 0. 0. 0. 0.]\n",
      " [0. 0. 0. 0. 0. 2. 2. 2. 2. 2. 2. 2. 2. 2. 0.]\n",
      " [0. 0. 0. 0. 0. 2. 2. 0. 2. 2. 2. 2. 2. 2. 0.]\n",
      " [0. 0. 0. 0. 0. 0. 2. 2. 2. 2. 0. 0. 2. 2. 0.]\n",
      " [0. 2. 2. 0. 0. 0. 2. 2. 2. 2. 0. 0. 0. 0. 0.]\n",
      " [0. 0. 0. 0. 0. 0. 0. 2. 2. 2. 2. 0. 3. 3. 0.]\n",
      " [0. 0. 0. 0. 0. 0. 0. 0. 2. 1. 1. 1. 3. 3. 0.]\n",
      " [0. 3. 3. 0. 0. 0. 0. 0. 0. 1. 1. 1. 3. 3. 0.]\n",
      " [0. 0. 0. 0. 0. 0. 0. 3. 3. 3. 1. 1. 3. 3. 0.]\n",
      " [0. 0. 0. 0. 3. 3. 3. 3. 3. 3. 1. 0. 0. 0. 0.]]\n",
      "\n",
      "\n",
      "value function is:\n",
      "[[ 0.507  0.781  0.992  1.218  1.477  1.771  2.066  2.274  2.595  2.411\n",
      "   1.559 -0.11  -0.11  -0.11  -0.11 ]\n",
      " [ 0.772  1.072  1.306  1.565  1.865  2.21   2.565  2.778  3.238  3.27\n",
      "   3.477  3.823  4.304  3.92  -0.11 ]\n",
      " [ 0.898  1.221  1.491  1.812  2.21   2.622  3.064  3.255  3.905  3.887\n",
      "   4.282  4.973  5.742  5.639 -0.11 ]\n",
      " [ 0.872  1.154  1.355  1.611  2.523  3.093  3.658  4.235  4.715  4.534\n",
      "   5.035  5.915  6.983  7.587 -0.11 ]\n",
      " [ 0.952  1.246  1.139 -2.932  2.559  3.619  4.321  5.062  5.674  5.248\n",
      "   5.721  6.838  8.335 10.255 -0.11 ]\n",
      " [ 1.141  1.514  1.855  2.314  3.51   4.304  5.097  6.002  6.86   6.054\n",
      "   5.42   5.999  7.001  7.593 -0.11 ]\n",
      " [ 1.099  1.452  1.762  2.223  3.994  5.019  5.994  7.095  8.356  7.106\n",
      "   6.065  5.394  5.85   5.686 -0.11 ]\n",
      " [ 0.917  1.183  0.706 -7.332  3.514  5.505  6.821  8.345 10.255  8.345\n",
      "   6.827  5.63   4.916  4.286 -0.11 ]\n",
      " [ 1.005  1.358  1.666  2.114  3.851  4.885  5.881  7.016  8.279  7.001\n",
      "   5.75   4.458  3.76   3.019 -0.11 ]\n",
      " [ 0.847  1.238  1.65   2.205  2.962  3.751  4.527  5.384  6.181  5.348\n",
      "   3.593 -0.11  -0.11  -0.11  -0.11 ]]\n"
     ]
    }
   ],
   "source": [
    "array1 = np.zeros((len_x, len_y))\n",
    "array2 = np.zeros((len_x, len_y))\n",
    "for item in policy:\n",
    "    array1[item[0], item[1]] = policy[item][0][0]\n",
    "    array2[item[0], item[1]] = values[item]\n",
    "np.set_printoptions(suppress=True, precision=3)\n",
    "print('policy is:')\n",
    "print(array1.T)\n",
    "print('\\n')\n",
    "print('value function is:')\n",
    "print(array2.T)"
   ]
  },
  {
   "cell_type": "code",
   "execution_count": 10,
   "metadata": {},
   "outputs": [
    {
     "name": "stdout",
     "output_type": "stream",
     "text": [
      "[[ 0.902  1.282  1.594  1.937  2.334  2.793  3.314  3.791  3.424  2.724]\n",
      " [ 1.264  1.654  2.001  2.395  2.855  3.386  4.005  4.672  4.175  3.604]\n",
      " [ 1.409  1.823  2.217  2.693  3.284  3.943  4.732  5.706  4.955  4.378]\n",
      " [ 1.326  1.677  1.965  2.319  3.337  4.018  4.69   5.425  5.828  5.26 ]\n",
      " [ 1.375  1.726  1.704 -2.25   3.351  4.535  5.382  6.294  7.016  6.299]\n",
      " [ 1.612  2.06   2.499  3.074  4.401  5.351  6.325  7.444  8.505  7.504]\n",
      " [ 1.615  2.056  2.485  3.093  5.025  6.239  7.437  8.799 10.362  8.883]\n",
      " [ 1.439  1.77   1.414 -6.371  4.668  6.884  8.479 10.351 12.706 10.437]\n",
      " [ 1.648  2.109  2.546  3.138  5.023  6.229  7.429  8.791 10.352  8.815]\n",
      " [ 1.572  2.194  2.801  3.528  4.406  5.302  6.297  7.436  8.468  6.83 ]]\n"
     ]
    }
   ],
   "source": [
    "dictionary = mdp_solver._value_iteration()\n",
    "array = np.zeros((len_x, len_y))\n",
    "for item in dictionary:\n",
    "    array[item[0], item[1]] = dictionary[item]\n",
    "np.set_printoptions(suppress=True, precision=3)\n",
    "print(array.T)"
   ]
  },
  {
   "cell_type": "code",
   "execution_count": null,
   "metadata": {},
   "outputs": [
    {
     "data": {
      "image/png": "[encoded data removed]",
      "text/plain": [
       "<Figure size 640x480 with 1 Axes>"
      ]
     },
     "metadata": {},
     "output_type": "display_data"
    }
   ],
   "source": [
    "import numpy as np\n",
    "import matplotlib.pyplot as plt\n",
    "\n",
    "\n",
    "\n",
    "\n",
    "# Direction mapping: [dx, dy] for each move (up, right, down, left)\n",
    "arrow_map = {\n",
    "    2: (1, 0),   # right\n",
    "    3: (-1, 0),   # Left\n",
    "    0: (0, -1),   # Up\n",
    "    1: (0, 1),  # Down\n",
    "\n",
    "}\n",
    "\n",
    "rows, cols = array1.shape\n",
    "X, Y = np.meshgrid(np.arange(cols), np.arange(rows))\n",
    "\n",
    "U = np.zeros_like(array1, dtype=float)\n",
    "V = np.zeros_like(array1, dtype=float)\n",
    "\n",
    "# Plot arrows or numbers\n",
    "for i in range(rows):\n",
    "    for j in range(cols):\n",
    "        if (i, j) in reward_states:\n",
    "            plt.text(i, j, f'{reward_values[reward_states.index((i, j))]}', ha='center', va='center', fontsize=12, fontweight='bold', color='red')\n",
    "        else:\n",
    "            dx, dy = arrow_map[int(array1[i, j])]\n",
    "            U[i, j] = dx\n",
    "            V[i, j] = -dy  \n",
    "\n",
    "plt.quiver(Y, X, V, U, pivot='middle', scale=1, scale_units='xy', angles='xy')\n",
    "plt.gca().invert_yaxis()\n",
    "plt.xticks(np.arange(cols))\n",
    "plt.yticks(np.arange(rows))\n",
    "plt.grid(True)\n",
    "plt.title(\"Policy Visualisation\")\n",
    "plt.show()\n"
   ]
  },
  {
   "cell_type": "code",
   "execution_count": 37,
   "metadata": {},
   "outputs": [
    {
     "data": {
      "text/plain": [
       "[(8, 7), (7, 2), (3, 4), (3, 7)]"
      ]
     },
     "execution_count": 37,
     "metadata": {},
     "output_type": "execute_result"
    }
   ],
   "source": [
    "reward_states"
   ]
  },
  {
   "cell_type": "code",
   "execution_count": 55,
   "metadata": {},
   "outputs": [
    {
     "data": {
      "text/plain": [
       "array([[0., 0., 0., 0., 0., 0., 0., 0., 0., 0.],\n",
       "       [2., 0., 0., 0., 2., 0., 0., 2., 0., 0.],\n",
       "       [2., 0., 0., 0., 2., 0., 0., 2., 0., 0.],\n",
       "       [2., 0., 0., 0., 0., 0., 0., 0., 0., 0.],\n",
       "       [2., 0., 0., 0., 0., 0., 0., 0., 0., 0.],\n",
       "       [2., 0., 0., 0., 0., 0., 0., 0., 0., 0.],\n",
       "       [2., 2., 0., 0., 2., 0., 0., 0., 0., 0.],\n",
       "       [2., 2., 0., 2., 2., 2., 0., 0., 0., 3.],\n",
       "       [2., 2., 2., 2., 2., 2., 2., 0., 3., 3.],\n",
       "       [2., 2., 2., 2., 2., 2., 2., 1., 3., 3.]])"
      ]
     },
     "execution_count": 55,
     "metadata": {},
     "output_type": "execute_result"
    }
   ],
   "source": [
    "array1"
   ]
  },
  {
   "cell_type": "code",
   "execution_count": null,
   "metadata": {},
   "outputs": [],
   "source": []
  }
 ],
 "metadata": {
  "kernelspec": {
   "display_name": "env",
   "language": "python",
   "name": "python3"
  },
  "language_info": {
   "codemirror_mode": {
    "name": "ipython",
    "version": 3
   },
   "file_extension": ".py",
   "mimetype": "text/x-python",
   "name": "python",
   "nbconvert_exporter": "python",
   "pygments_lexer": "ipython3",
   "version": "3.12.0"
  }
 },
 "nbformat": 4,
 "nbformat_minor": 2
}
